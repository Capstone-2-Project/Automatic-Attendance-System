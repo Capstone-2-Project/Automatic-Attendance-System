{
 "cells": [
  {
   "cell_type": "code",
   "execution_count": 1,
   "id": "d905bf6a-a03b-4d71-876d-e94a374b7abf",
   "metadata": {},
   "outputs": [],
   "source": [
    "import cv2\n",
    "import imutils\n",
    "import numpy as np\n",
    "import argparse\n",
    "import pickle\n",
    "import dlib\n",
    "import cv2\n",
    "import pygetwindow as gw\n",
    "from PIL import ImageGrab\n",
    "import numpy as np\n",
    "import tkinter as tk\n",
    "from tkinter import messagebox\n",
    "import smtplib\n",
    "from email.mime.text import MIMEText\n",
    "from turtle import textinput\n"
   ]
  },
  {
   "cell_type": "code",
   "execution_count": 2,
   "id": "a7099be6-fcbb-490f-b09a-ee18acca968a",
   "metadata": {},
   "outputs": [],
   "source": [
    "face_detector = dlib.get_frontal_face_detector()\n",
    "shape_predictor = dlib.shape_predictor(\"C:\\\\Users\\\\annan\\\\Documents\\\\Study\\\\Konda\\\\AIDI Course\\\\CapstoneProjects\\\\CapstoneProject-2\\\\images\\\\shape_predictor_68_face_landmarks.dat\")\n",
    "face_encoder = dlib.face_recognition_model_v1(\"C:\\\\Users\\\\annan\\Documents\\\\Study\\\\Konda\\\\AIDI Course\\\\CapstoneProjects\\\\CapstoneProject-2\\\\images\\\\dlib_face_recognition_resnet_model_v1.dat\")\n",
    "roll_numbers=[1,2,3,4,5,6]\n",
    "\n",
    "roll_number_to_name={1:'Yedukondalu',2:'Reddi',3:'Nandini',4:'Likith',5:'Manvitha',6:'Ruchita'}\n",
    "\n",
    "\n",
    "# root = tk.Tk()\n",
    "# root.title(\"Attendance Recorder\")\n",
    "# root.attributes(\"-fullscreen\", True)\n",
    "\n",
    "def face_rects(image):\n",
    "    gray = cv2.cvtColor(image, cv2.COLOR_BGR2GRAY)\n",
    "    face_detector = dlib.get_frontal_face_detector()\n",
    "    rects = face_detector(gray, 1)\n",
    "    return rects\n",
    "def face_landmarks(image):\n",
    "    return [shape_predictor(image, face_rect) for face_rect in face_rects(image)]\n",
    "def face_encodings(image):\n",
    "    # compute the facial embeddings for each face \n",
    "    # in the input image. the `compute_face_descriptor` \n",
    "    # function returns a 128-d vector that describes the face in an image\n",
    "    return [np.array(face_encoder.compute_face_descriptor(image, face_landmark)) \n",
    "            for face_landmark in face_landmarks(image)]\n",
    "\n",
    "\n",
    "def nb_of_matches(known_encodings, unknown_encoding):\n",
    "    # compute the Euclidean distance between the current face encoding \n",
    "    # and all the face encodings in the database\n",
    "    distances = np.linalg.norm(known_encodings - unknown_encoding, axis=1)\n",
    "    # keep only the distances that are less than the threshold\n",
    "    small_distances = distances <= 0.6\n",
    "    # return the number of matches\n",
    "    return sum(small_distances)\n",
    "\n",
    "def detect(frame):\n",
    "    bounding_box_cordinates, weights =  HOGCV.detectMultiScale(frame, winStride = (4, 4), padding = (8, 8), scale = 1.03)\n",
    "    \n",
    "    person = 1\n",
    "    for x,y,w,h in bounding_box_cordinates:\n",
    "        cv2.rectangle(frame, (x,y), (x+w,y+h), (0,255,0), 2)\n",
    "        cv2.putText(frame, f'person {person}', (x,y), cv2.FONT_HERSHEY_SIMPLEX, 0.5, (0,0,255), 1)\n",
    "        person += 1\n",
    "    \n",
    "    cv2.putText(frame, 'Status : Detecting ', (40,40), cv2.FONT_HERSHEY_DUPLEX, 0.8, (255,0,0), 2)\n",
    "    cv2.putText(frame, f'Total Persons : {person-1}', (40,70), cv2.FONT_HERSHEY_DUPLEX, 0.8, (255,0,0), 2)\n",
    "    cv2.imshow('output', frame)\n",
    "    return frame\n",
    "# def humanDetector(name_encodings_dict):\n",
    "#     writer = None    \n",
    "#     # Create a button to show the popup\n",
    "#     popup_button_1 = tk.Button(root, text=\"Camera(For Students)\", command=detectByCamera(writer,name_encodings_dict))\n",
    "#     popup_button_2 = tk.Button(root, text=\"Screenshare(For Lecturer)\", command=detectByScreenShare(writer,name_encodings_dict))\n",
    "\n",
    "#     popup_button_1.pack(pady=20)\n",
    "#     popup_button_2.pack(pady=20)\n",
    "#     root.mainloop()\n",
    "#     # return detectByCamera(writer,name_encodings_dict)\n",
    "#     # return detectByScreenShare(writer,name_encodings_dict)\n",
    "    \n",
    "def detectByCamera(writer,name_encodings_dict):  \n",
    "    video = cv2.VideoCapture(0)\n",
    "    print('Opening WebCam')\n",
    "    while True:\n",
    "        check, frame = video.read()\n",
    "        # frame = detect(frame)\n",
    "        encodings = face_encodings(frame)\n",
    "        names=[]\n",
    "        for encoding in encodings:\n",
    "            counts = {}\n",
    "            for (roll_number, encodings) in name_encodings_dict.items():\n",
    "                counts[roll_number] = nb_of_matches(encodings, encoding)\n",
    "            if all(count == 0 for count in counts.values()):\n",
    "                roll_number = 0\n",
    "            else:\n",
    "                roll_number = max(counts, key=counts.get)\n",
    "                roll_numbers.append(roll_number)\n",
    "                attendance.add(roll_number)\n",
    "        for rect, roll_number in zip(face_rects(frame), roll_numbers):\n",
    "            x1, y1, x2, y2 = rect.left(), rect.top(), rect.right(), rect.bottom()\n",
    "            cv2.rectangle(frame, (x1, y1), (x2, y2), (0, 255, 0), 2)\n",
    "            cv2.putText(frame, roll_number_to_name.get(roll_number) , (x1, y1 - 10), cv2.FONT_HERSHEY_SIMPLEX, 0.75, (0, 255, 0), 2)\n",
    "            cv2.imshow('Video', frame)\n",
    "        if writer is not None:\n",
    "            writer.write(frame)\n",
    "        key = cv2.waitKey(1)\n",
    "        if key == ord('q'):\n",
    "            break\n",
    "    video.release()\n",
    "    cv2.destroyAllWindows() \n",
    "    \n",
    "def detectByScreenShare(writer,name_encodings_dict):  \n",
    "    print('Sharing the screen')\n",
    "    while True:\n",
    "        screenshot = ImageGrab.grab()\n",
    "        # Convert the screenshot to an OpenCV image\n",
    "        frame = np.array(screenshot)\n",
    "        frame = cv2.cvtColor(frame, cv2.COLOR_RGB2BGR)\n",
    "        encodings = face_encodings(frame)\n",
    "        for encoding in encodings:\n",
    "            counts = {}\n",
    "            for (roll_number, encodings) in name_encodings_dict.items():\n",
    "                counts[roll_number] = nb_of_matches(encodings, encoding)\n",
    "            if all(count == 0 for count in counts.values()):\n",
    "                roll_number = 0\n",
    "            else:\n",
    "                roll_number = max(counts, key=counts.get)\n",
    "                roll_numbers.append(roll_number)\n",
    "                attendance.add(roll_number)\n",
    "        for rect, roll_number in zip(face_rects(frame), roll_numbers):\n",
    "            x1, y1, x2, y2 = rect.left(), rect.top(), rect.right(), rect.bottom()\n",
    "            cv2.rectangle(frame, (x1, y1), (x2, y2), (0, 255, 0), 2)\n",
    "            cv2.putText(frame, roll_number_to_name.get(roll_number) , (x1, y1 - 10), cv2.FONT_HERSHEY_SIMPLEX, 0.75, (0, 255, 0), 2)\n",
    "            cv2.imshow('Video', frame)\n",
    "        if writer is not None:\n",
    "            writer.write(frame)\n",
    "        key = cv2.waitKey(1)\n",
    "        if key == ord('q'):\n",
    "            break\n",
    "    cv2.destroyAllWindows() \n",
    "def send_email(subject, body, sender, password):\n",
    "    msg = MIMEText(body)\n",
    "    msg['Subject'] = subject\n",
    "    msg['From'] = sender\n",
    "    recipients= textinput(\"MailId\", \"Please enter your recievers MailId:\")\n",
    "    msg['To'] =recipients\n",
    "    with smtplib.SMTP_SSL('smtp.gmail.com', 465) as smtp_server:\n",
    "       smtp_server.login(sender, password)\n",
    "       smtp_server.sendmail(sender, recipients, msg.as_string())\n",
    "    print(\"Message sent!\")\n",
    "    # root.destroy()\n",
    "    # return attendance;"
   ]
  },
  {
   "cell_type": "code",
   "execution_count": 11,
   "id": "e3d22dab-f123-4337-aa84-f5d75d1b1d72",
   "metadata": {},
   "outputs": [
    {
     "name": "stdout",
     "output_type": "stream",
     "text": [
      "{0, 2, 3}\n"
     ]
    }
   ],
   "source": [
    "\n",
    "a.add(3)\n",
    "print(a)"
   ]
  },
  {
   "cell_type": "code",
   "execution_count": 3,
   "id": "541309aa-8b27-43fd-9ede-9e0c34275ede",
   "metadata": {},
   "outputs": [],
   "source": [
    "# # if __name__ == \"__main__\":\n",
    "\n",
    "# with open(\"C:\\\\Users\\\\annan\\\\Documents\\\\Study\\\\Konda\\\\AIDI Course\\\\CapstoneProjects\\\\CapstoneProject-2\\\\pickleFile\\\\encodings.pickle\", \"rb\") as f:\n",
    "#     name_encodings_dict = pickle.load(f)\n",
    "# HOGCV = cv2.HOGDescriptor()\n",
    "# HOGCV.setSVMDetector(cv2.HOGDescriptor_getDefaultPeopleDetector())\n",
    "# # args = argsParser()\n",
    "# final_attendance=humanDetector(name_encodings_dict)\n",
    "\n",
    "# print(final_attendance)\n",
    "# # python main.py -c True\n",
    "\n"
   ]
  },
  {
   "cell_type": "code",
   "execution_count": null,
   "id": "8134091d-4811-4a10-833e-9cdce0a76f16",
   "metadata": {},
   "outputs": [
    {
     "name": "stdout",
     "output_type": "stream",
     "text": [
      "Sharing the screen\n",
      "Message sent!\n",
      "Sharing the screen\n"
     ]
    }
   ],
   "source": [
    "with open(\"C:\\\\Users\\\\annan\\\\Documents\\\\Study\\\\Konda\\\\AIDI Course\\\\CapstoneProjects\\\\CapstoneProject-2\\\\pickleFile\\\\encodings.pickle\", \"rb\") as f:\n",
    "    name_encodings_dict = pickle.load(f)\n",
    "\n",
    "writer=None\n",
    "root = tk.Tk()\n",
    "root.title(\"Attandance Register\")\n",
    "# Maximize the main window\n",
    "root.attributes(\"-fullscreen\", True)\n",
    "attendance={1,4}\n",
    "# Create a button to show the popup\n",
    "popup_button_1 = tk.Button(root, text=\"Camera(For Students)\", command= lambda:detectByCamera(writer,name_encodings_dict))\n",
    "popup_button_2 = tk.Button(root, text=\"Screenshare(For Lecturer)\", command= lambda:detectByScreenShare(writer,name_encodings_dict))\n",
    "subject=\"Attendance For the Class\"\n",
    "body=\"list of studentsIDs who attended the class is \"+str(attendance)\n",
    "popup_button_3 = tk.Button(root, text=\"SendMail\", command= lambda:send_email(subject, body, \"yedukondaluannangi@gmail.com\", \"lumeccvgsgbeybau\"))\n",
    "popup_button_1.pack(pady=20)\n",
    "popup_button_2.pack(pady=20)\n",
    "popup_button_3.pack(pady=20)\n",
    "\n",
    "# Start the main GUI event loop\n",
    "root.mainloop()\n",
    "\n",
    "\n"
   ]
  },
  {
   "cell_type": "code",
   "execution_count": 10,
   "id": "ea2a6538-459e-4b81-aec8-02592146935c",
   "metadata": {},
   "outputs": [
    {
     "name": "stdout",
     "output_type": "stream",
     "text": [
      "Sharing the screen\n",
      "[1, 2, 3, 4, 5, 6, '1', '1', '3', '3', '3', '3']\n",
      "{0, '3', '1'}\n"
     ]
    }
   ],
   "source": [
    "# with open(\"C:\\\\Users\\\\annan\\\\Documents\\\\Study\\\\Konda\\\\AIDI Course\\\\CapstoneProjects\\\\CapstoneProject-2\\\\pickleFile\\\\encodings.pickle\", \"rb\") as f:\n",
    "#     name_encodings_dict = pickle.load(f)\n",
    "# writer=None\n",
    "# # detectByCamera(writer,name_encodings_dict)\n",
    "# detectByScreenShare(writer,name_encodings_dict)\n",
    "# print(roll_numbers)\n",
    "# print(attendance)"
   ]
  },
  {
   "cell_type": "code",
   "execution_count": 2,
   "id": "5f4726bf-09ec-4973-8843-31fa87aa4639",
   "metadata": {},
   "outputs": [
    {
     "name": "stdout",
     "output_type": "stream",
     "text": [
      "dafsd\n"
     ]
    }
   ],
   "source": [
    "\n",
    "\n",
    "\n",
    "print(receiver_email)       "
   ]
  },
  {
   "cell_type": "code",
   "execution_count": 4,
   "id": "79c68a6e-b508-4c59-aa14-b3d2fda5278b",
   "metadata": {},
   "outputs": [
    {
     "name": "stdout",
     "output_type": "stream",
     "text": [
      "Message sent!\n"
     ]
    }
   ],
   "source": [
    "\n",
    "subject = \"Email Subject\"\n",
    "body = \"This is the body of the text message\"\n",
    "sender = \n",
    "password = \n",
    "\n",
    "\n",
    "\n",
    "\n",
    "\n"
   ]
  },
  {
   "cell_type": "code",
   "execution_count": null,
   "id": "eff1e151-a72b-4269-ac6d-f5854629eae5",
   "metadata": {},
   "outputs": [],
   "source": []
  }
 ],
 "metadata": {
  "kernelspec": {
   "display_name": "Python 3 (ipykernel)",
   "language": "python",
   "name": "python3"
  },
  "language_info": {
   "codemirror_mode": {
    "name": "ipython",
    "version": 3
   },
   "file_extension": ".py",
   "mimetype": "text/x-python",
   "name": "python",
   "nbconvert_exporter": "python",
   "pygments_lexer": "ipython3",
   "version": "3.9.16"
  }
 },
 "nbformat": 4,
 "nbformat_minor": 5
}
